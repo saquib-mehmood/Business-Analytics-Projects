{
 "cells": [
  {
   "cell_type": "markdown",
   "metadata": {},
   "source": [
    "# Project - Business Metrics\n",
    "\n",
    "In business institutions, management keeps track of the overall health of the business through the result of measurements called metrics, e.g. revenue and average order values. Examples of metrics that are followed by governments are GDP, inflation, and unemployment rate. \n",
    "\n",
    "In this project, we'll focus on  makes a good metric, and we'll explore some metrics in different business scenarios. What's important to understand is that metrics are observed across time. Metrics are calculated separately at specific points in time, but are understood in a chronological context.\n",
    "\n",
    "Common time frames in which to calculate metrics are days, weeks, or months. Which time frame to use depends on factors like importance, data availability, and how dynamic the metric is."
   ]
  },
  {
   "cell_type": "markdown",
   "metadata": {},
   "source": [
    "### What's a Good Metric\n",
    "A good metric should have the following characteristics:\n",
    "\n",
    "- Accurate\n",
    "- Simple and intelligible. To be read and understood at a glance.\n",
    "- Easy to drill down into. What factors contributed to the change in the metric\n",
    "- Actionable\n",
    "- Dynamic.  They need to change over time.\n",
    "- Standardized. Everyone sees the same thing.\n",
    "- Business oriented. Need to be adjusted to the current needs of the business.\n",
    "- "
   ]
  },
  {
   "cell_type": "markdown",
   "metadata": {},
   "source": [
    "### Net Promoter Score (NPS)\n",
    "NPS is a customer success metric that quantifies customer satisfaction. On a scale of 0 to 10, Customers who pick:\n",
    "\n",
    "- Anything from 0 through 6 are called `detractors`;\n",
    "- 7 or 8 are called `passives`;\n",
    "- 9 or 10 are called `promoters`;\n",
    "\n",
    "**Exercise**\n",
    "\n",
    "Create a function called `categorize` that, for each possible score, returns its respective category:\n",
    "\n",
    "- Scores 0 through 6 should be categorized as `\"Detractor\"`;\n",
    "- Scores 7 and 8 should be categorized as `\"Passive\"`;\n",
    "- Scores 9 and 10 should be categorized as `\"Promoter\"`;"
   ]
  },
  {
   "cell_type": "code",
   "execution_count": 1,
   "metadata": {
    "scrolled": true
   },
   "outputs": [
    {
     "name": "stdout",
     "output_type": "stream",
     "text": [
      "0 :  Detractor\n",
      "1 :  Detractor\n",
      "2 :  Detractor\n",
      "3 :  Detractor\n",
      "4 :  Detractor\n",
      "5 :  Detractor\n",
      "6 :  Detractor\n",
      "7 :  Passive\n",
      "8 :  Passive\n",
      "9 :  Promoter\n",
      "10 :  Promoter\n"
     ]
    }
   ],
   "source": [
    "def categorize(i):\n",
    "    if i in range(0,7):\n",
    "        return \"Detractor\"\n",
    "    \n",
    "    elif i in range(7,9):   \n",
    "        return \"Passive\"\n",
    "   \n",
    "    elif i in range(9,11):\n",
    "        return \"Promoter\"\n",
    "   \n",
    "    return None\n",
    "    \n",
    "\n",
    "for i in range(0,11):\n",
    "    print(i, \": \", categorize(i))"
   ]
  },
  {
   "cell_type": "markdown",
   "metadata": {},
   "source": [
    "### Calculating NPS\n",
    "NPS is calculated as the percentage of promoters minus the percentage of detractors. \n",
    "\n",
    "**Dataset**\n",
    "\n",
    "We will use the dataset `nps.csv` which has following columns:\n",
    "`event_date`: The date and time in which customers completed the survey\n",
    "`user_id`: A customer identifier\n",
    "`score`: Their answer to the survey\n",
    "\n",
    "The dates pertain the year of 2020 only and the dataset has no missing values, nor does it require any major data cleaning."
   ]
  },
  {
   "cell_type": "code",
   "execution_count": 2,
   "metadata": {
    "scrolled": true
   },
   "outputs": [
    {
     "name": "stdout",
     "output_type": "stream",
     "text": [
      "<class 'pandas.core.frame.DataFrame'>\n",
      "RangeIndex: 3326 entries, 0 to 3325\n",
      "Data columns (total 3 columns):\n",
      " #   Column      Non-Null Count  Dtype         \n",
      "---  ------      --------------  -----         \n",
      " 0   event_date  3326 non-null   datetime64[ns]\n",
      " 1   user_id     3326 non-null   int64         \n",
      " 2   score       3326 non-null   int64         \n",
      "dtypes: datetime64[ns](1), int64(2)\n",
      "memory usage: 78.1 KB\n",
      "None\n",
      "           event_date    user_id  score\n",
      "0 2020-01-01 19:00:51  290067447      8\n",
      "1 2020-01-02 17:34:43  223014806     10\n",
      "2 2020-01-02 19:11:55  187864388     10\n",
      "3 2020-01-02 19:27:00  318758952      8\n",
      "4 2020-01-02 21:42:19  189933311      0\n"
     ]
    }
   ],
   "source": [
    "import pandas as pd\n",
    "df = pd.read_csv(\"nps.csv\", parse_dates=[\"event_date\"])\n",
    "\n",
    "print(df.info())\n",
    "\n",
    "print(df.head())"
   ]
  },
  {
   "cell_type": "markdown",
   "metadata": {},
   "source": [
    "**Exercise**\n",
    "\n",
    "- Create a numeric column in df called `yearmonth` that stores the year and the month of each row in the `yyyymm` format.\n",
    "- Create a column in df called `\"category\"` that assigns the category corresponding to its score to each row.. Use the function `categorize` created above.\n",
    "\n",
    " Create a new dataframe with the NPS for each month:\n",
    "- Assign to `nps` the result of using `df.pivot_table()` with:\n",
    "`yearmonth` as the index\n",
    "- `category` as a column\n",
    "- The string size as an aggregating function\n",
    "\n",
    "- Create a new column in `nps` whose values are the sum of the values of each row to get the total number of responses for the month. This column should be called `total_responses`.\n",
    "- Subtract detractors from the promoters and divide the result by the total_responses column. Assign the result of this computation to `nps`\n",
    "- Multiply the nps column by 100, cast it as integer using the Series.astype() method. Assign it back to `nps[\"nps\"]`."
   ]
  },
  {
   "cell_type": "code",
   "execution_count": 3,
   "metadata": {
    "scrolled": true
   },
   "outputs": [
    {
     "name": "stdout",
     "output_type": "stream",
     "text": [
      "<class 'pandas.core.frame.DataFrame'>\n",
      "RangeIndex: 3326 entries, 0 to 3325\n",
      "Data columns (total 4 columns):\n",
      " #   Column      Non-Null Count  Dtype         \n",
      "---  ------      --------------  -----         \n",
      " 0   event_date  3326 non-null   datetime64[ns]\n",
      " 1   user_id     3326 non-null   int64         \n",
      " 2   score       3326 non-null   int64         \n",
      " 3   yearmonth   3326 non-null   int32         \n",
      "dtypes: datetime64[ns](1), int32(1), int64(2)\n",
      "memory usage: 91.1 KB\n",
      "None\n",
      "              event_date    user_id  score  yearmonth\n",
      "1974 2020-07-15 13:35:34  372965077      9     202007\n",
      "81   2020-01-11 13:36:52  189932310      2     202001\n",
      "3008 2020-10-20 22:54:22  296448557      9     202010\n",
      "35   2020-01-07 17:55:24  189932592      7     202001\n",
      "1440 2020-06-01 01:19:53  396961365     10     202006\n"
     ]
    }
   ],
   "source": [
    "# creating numeric column yyyymm\n",
    "date = df[\"event_date\"].dt.date.astype(str)\n",
    "\n",
    "df[\"yearmonth\"] = date.str[0:8].str.replace(\"-\",\"\").astype(int)\n",
    "\n",
    "print(df.info())\n",
    "print(df.sample(5))\n"
   ]
  },
  {
   "cell_type": "code",
   "execution_count": 4,
   "metadata": {
    "scrolled": true
   },
   "outputs": [
    {
     "name": "stdout",
     "output_type": "stream",
     "text": [
      "<class 'pandas.core.frame.DataFrame'>\n",
      "RangeIndex: 3326 entries, 0 to 3325\n",
      "Data columns (total 5 columns):\n",
      " #   Column      Non-Null Count  Dtype         \n",
      "---  ------      --------------  -----         \n",
      " 0   event_date  3326 non-null   datetime64[ns]\n",
      " 1   user_id     3326 non-null   int64         \n",
      " 2   score       3326 non-null   int64         \n",
      " 3   yearmonth   3326 non-null   int32         \n",
      " 4   category    3326 non-null   object        \n",
      "dtypes: datetime64[ns](1), int32(1), int64(2), object(1)\n",
      "memory usage: 117.1+ KB\n",
      "None\n",
      "              event_date    user_id  score  yearmonth  category\n",
      "746  2020-03-24 04:15:14  308956353     10     202003  Promoter\n",
      "1528 2020-06-09 15:06:01  400824226      7     202006   Passive\n",
      "2689 2020-09-10 17:00:10  133821318     10     202009  Promoter\n",
      "1348 2020-05-27 03:35:09  130108031      9     202005  Promoter\n",
      "3096 2020-11-03 07:15:45  166294393     10     202011  Promoter\n"
     ]
    }
   ],
   "source": [
    "# Creating 'category' column\n",
    "\n",
    "df[\"category\"] = df[\"score\"].apply(categorize)\n",
    "\n",
    "print(df.info())\n",
    "print(df.sample(5))"
   ]
  },
  {
   "cell_type": "code",
   "execution_count": 5,
   "metadata": {},
   "outputs": [
    {
     "name": "stdout",
     "output_type": "stream",
     "text": [
      "<class 'pandas.core.frame.DataFrame'>\n",
      "Int64Index: 12 entries, 202001 to 202012\n",
      "Data columns (total 3 columns):\n",
      " #   Column     Non-Null Count  Dtype\n",
      "---  ------     --------------  -----\n",
      " 0   Detractor  12 non-null     int64\n",
      " 1   Passive    12 non-null     int64\n",
      " 2   Promoter   12 non-null     int64\n",
      "dtypes: int64(3)\n",
      "memory usage: 384.0 bytes\n",
      "None\n",
      "category   Detractor  Passive  Promoter\n",
      "yearmonth                              \n",
      "202001            31       82       215\n",
      "202002            22       90       161\n",
      "202003            33       72       125\n",
      "202004            36       87       178\n",
      "202005            33       83       191\n"
     ]
    }
   ],
   "source": [
    "# Creating the dataframe \"nps\"\n",
    "\n",
    "nps = df.pivot_table(index=\"yearmonth\", columns=\"category\", aggfunc=\"size\")\n",
    "\n",
    "print(nps.info())\n",
    "print(nps.head())"
   ]
  },
  {
   "cell_type": "code",
   "execution_count": 6,
   "metadata": {
    "scrolled": true
   },
   "outputs": [
    {
     "name": "stdout",
     "output_type": "stream",
     "text": [
      "category   Detractor  Passive  Promoter  total_responses\n",
      "yearmonth                                               \n",
      "202001            31       82       215              328\n",
      "202002            22       90       161              273\n",
      "202003            33       72       125              230\n",
      "202004            36       87       178              301\n",
      "202005            33       83       191              307\n"
     ]
    }
   ],
   "source": [
    "# Create a new column \"total_responses\"\n",
    "nps[\"total_responses\"] = nps.sum(axis=1)\n",
    "\n",
    "print(nps.head())"
   ]
  },
  {
   "cell_type": "code",
   "execution_count": 7,
   "metadata": {
    "scrolled": false
   },
   "outputs": [
    {
     "name": "stdout",
     "output_type": "stream",
     "text": [
      "<class 'pandas.core.frame.DataFrame'>\n",
      "Int64Index: 12 entries, 202001 to 202012\n",
      "Data columns (total 5 columns):\n",
      " #   Column           Non-Null Count  Dtype\n",
      "---  ------           --------------  -----\n",
      " 0   Detractor        12 non-null     int64\n",
      " 1   Passive          12 non-null     int64\n",
      " 2   Promoter         12 non-null     int64\n",
      " 3   total_responses  12 non-null     int64\n",
      " 4   nps              12 non-null     int32\n",
      "dtypes: int32(1), int64(4)\n",
      "memory usage: 528.0 bytes\n",
      "None\n",
      "category   Detractor  Passive  Promoter  total_responses  nps\n",
      "yearmonth                                                    \n",
      "202001            31       82       215              328   56\n",
      "202002            22       90       161              273   50\n",
      "202003            33       72       125              230   40\n",
      "202004            36       87       178              301   47\n",
      "202005            33       83       191              307   51\n"
     ]
    }
   ],
   "source": [
    "# calculate nps\n",
    "\n",
    "nps[\"nps\"] = ((nps[\"Promoter\"] - nps[\"Detractor\"])/ nps[\"total_responses\"])*100\n",
    "nps[\"nps\"] = nps[\"nps\"].astype(int)\n",
    "print(nps.info())\n",
    "print(nps.head())"
   ]
  },
  {
   "cell_type": "code",
   "execution_count": 8,
   "metadata": {
    "scrolled": true
   },
   "outputs": [
    {
     "data": {
      "text/plain": [
       "<matplotlib.axes._subplots.AxesSubplot at 0x95ff988>"
      ]
     },
     "execution_count": 8,
     "metadata": {},
     "output_type": "execute_result"
    },
    {
     "data": {
      "image/png": "[encoded data removed]",
      "text/plain": [
       "<Figure size 432x288 with 1 Axes>"
      ]
     },
     "metadata": {
      "needs_background": "light"
     },
     "output_type": "display_data"
    }
   ],
   "source": [
    "# Plotting nps\n",
    "\n",
    "nps[\"nps\"].plot(kind='bar',title='Monthly NPS 2020', ylim=(30,60), legend=False)"
   ]
  },
  {
   "cell_type": "code",
   "execution_count": 9,
   "metadata": {
    "scrolled": true
   },
   "outputs": [
    {
     "data": {
      "text/plain": [
       "<matplotlib.axes._subplots.AxesSubplot at 0x9815388>"
      ]
     },
     "execution_count": 9,
     "metadata": {},
     "output_type": "execute_result"
    },
    {
     "data": {
      "image/png": "[encoded data removed]",
      "text/plain": [
       "<Figure size 432x288 with 1 Axes>"
      ]
     },
     "metadata": {
      "needs_background": "light"
     },
     "output_type": "display_data"
    }
   ],
   "source": [
    "nps[\"nps\"].plot(kind='line',title='Monthly NPS 2020', ylim=(30,60), legend=False)"
   ]
  },
  {
   "cell_type": "markdown",
   "metadata": {},
   "source": [
    "### Customer Churn\n",
    "\n",
    "Customer churn is an esoteric concept, but generally, when a customer stops being a customer, we say the customer has churned. \n",
    "\n",
    "Churn rate is the percentage of customers that churned in a given time period.\n",
    "\n",
    "**# Churned Customers/# Total Customers**\n",
    "\n"
   ]
  },
  {
   "cell_type": "markdown",
   "metadata": {},
   "source": [
    "**Scenario**\n",
    "We purchased our local gym \"Muscle Labs\" from its previous owners in January 2013. We immediately took the opportunity to make a New Year's Resolution promo where people could sign up for the whole year and pay $500 instead of $50 per month. We decided to use the traditional subscription model used in gyms where customers pay an installment per month to access the gym. A customer churns when they elect not to pay the installment. The **dataset** we'll be using consists is stored in the file `muscle_labs.csv`and consists of folloing columns:\n",
    "\n",
    "`id`: The subscription ID; a customer can appear multiple times in this dataset by virtue of having multiple subscriptions instead of a continuous one\n",
    "`customer_id`: The customer's ID\n",
    "`end_date`: The actual (if in the past) or estimated (if in the future) end date of the subscription\n",
    "`start_date`: The subscription start date\n",
    "`subscription_period`: Specifies whether it is a monthly or annual subscription\n",
    "`price`: The price\n",
    "\n",
    "It is now December 2014, and before new year, we have decided to track the monthly churn rate from before you owned(January 2013) the gym up to last month (November 2014). "
   ]
  },
  {
   "cell_type": "markdown",
   "metadata": {},
   "source": [
    "**Exercise**\n",
    " Read in the dataset into a dataframe called `subs`.\n",
    " - Use the `parse_dates` argument in `pd.read_csv` to parse the dates appropriately.\n",
    "- Create an integer column in `subs` called `churn_month` that is the `end_date` column in yyyymm format.\n",
    "- Find the number of churned customers per month:\n",
    " - Group by `churn_month` and count the number of rows.\n",
    " - Assign this data to a dataframe called monthly_churn.\n",
    "  - The (only) column should be named `total_churned`.\n",
    "- Display `monthly_churn`."
   ]
  },
  {
   "cell_type": "code",
   "execution_count": 10,
   "metadata": {
    "scrolled": true
   },
   "outputs": [
    {
     "name": "stdout",
     "output_type": "stream",
     "text": [
      "<class 'pandas.core.frame.DataFrame'>\n",
      "RangeIndex: 10497 entries, 0 to 10496\n",
      "Data columns (total 6 columns):\n",
      " #   Column               Non-Null Count  Dtype         \n",
      "---  ------               --------------  -----         \n",
      " 0   id                   10497 non-null  int64         \n",
      " 1   customer_id          10497 non-null  int64         \n",
      " 2   end_date             10497 non-null  datetime64[ns]\n",
      " 3   start_date           10497 non-null  datetime64[ns]\n",
      " 4   subscription_period  10497 non-null  object        \n",
      " 5   price                10497 non-null  int64         \n",
      "dtypes: datetime64[ns](2), int64(3), object(1)\n",
      "memory usage: 492.2+ KB\n",
      "None \n",
      "\n",
      "    id  customer_id            end_date          start_date  \\\n",
      "0    5         1337 2014-12-28 01:40:57 2014-10-25 12:39:18   \n",
      "1   28         1338 2014-11-19 01:48:05 2014-10-17 13:47:59   \n",
      "2   44         1339 2014-11-01 20:56:37 2014-10-30 05:50:54   \n",
      "3   85         1340 2014-12-09 02:51:57 2013-12-05 14:51:57   \n",
      "4  168         1341 2015-11-16 09:19:29 2014-11-13 20:19:23   \n",
      "\n",
      "  subscription_period  price  \n",
      "0             monthly     50  \n",
      "1             monthly     50  \n",
      "2              annual    500  \n",
      "3              annual    500  \n",
      "4              annual    500  \n"
     ]
    }
   ],
   "source": [
    "import pandas as pd\n",
    "subs = pd.read_csv(\"muscle_labs.csv\", parse_dates = [\"end_date\",\"start_date\"])\n",
    "\n",
    "print(subs.info(), '\\n')\n",
    "print(subs.head())\n"
   ]
  },
  {
   "cell_type": "code",
   "execution_count": 11,
   "metadata": {
    "scrolled": true
   },
   "outputs": [
    {
     "name": "stdout",
     "output_type": "stream",
     "text": [
      "<class 'pandas.core.frame.DataFrame'>\n",
      "RangeIndex: 10497 entries, 0 to 10496\n",
      "Data columns (total 7 columns):\n",
      " #   Column               Non-Null Count  Dtype         \n",
      "---  ------               --------------  -----         \n",
      " 0   id                   10497 non-null  int64         \n",
      " 1   customer_id          10497 non-null  int64         \n",
      " 2   end_date             10497 non-null  datetime64[ns]\n",
      " 3   start_date           10497 non-null  datetime64[ns]\n",
      " 4   subscription_period  10497 non-null  object        \n",
      " 5   price                10497 non-null  int64         \n",
      " 6   churn_month          10497 non-null  int32         \n",
      "dtypes: datetime64[ns](2), int32(1), int64(3), object(1)\n",
      "memory usage: 533.2+ KB\n",
      "None\n",
      "         id  customer_id            end_date          start_date  \\\n",
      "826   14681         2327 2015-04-26 02:41:00 2014-04-23 14:41:00   \n",
      "1288  13720         2812 2015-02-08 20:06:00 2014-02-05 08:06:00   \n",
      "1296  13840         2820 2015-02-03 22:46:00 2014-01-31 10:46:00   \n",
      "629   15534         2125 2014-12-28 09:36:00 2014-06-25 21:36:00   \n",
      "2998  13541         4723 2015-01-22 08:08:00 2014-01-18 20:08:00   \n",
      "\n",
      "     subscription_period  price  churn_month  \n",
      "826               annual    500       201504  \n",
      "1288              annual    500       201502  \n",
      "1296              annual    500       201502  \n",
      "629              monthly     50       201412  \n",
      "2998              annual    500       201501  \n"
     ]
    }
   ],
   "source": [
    "# creating numeric column yyyymm\n",
    "date = subs[\"end_date\"].dt.date.astype(str)\n",
    "\n",
    "subs[\"churn_month\"] = date.str[0:8].str.replace(\"-\",\"\").astype(int)\n",
    "\n",
    "print(subs.info())\n",
    "print(subs.sample(5))"
   ]
  },
  {
   "cell_type": "code",
   "execution_count": 12,
   "metadata": {
    "scrolled": true
   },
   "outputs": [
    {
     "name": "stdout",
     "output_type": "stream",
     "text": [
      "<class 'pandas.core.frame.DataFrame'>\n",
      "Int64Index: 58 entries, 201103 to 201512\n",
      "Data columns (total 1 columns):\n",
      " #   Column         Non-Null Count  Dtype\n",
      "---  ------         --------------  -----\n",
      " 0   total_churned  58 non-null     int64\n",
      "dtypes: int64(1)\n",
      "memory usage: 928.0 bytes\n",
      "None \n",
      "\n",
      "             total_churned\n",
      "churn_month               \n",
      "201103                   8\n",
      "201104                  16\n",
      "201105                  29\n",
      "201106                  27\n",
      "201107                  37\n"
     ]
    }
   ],
   "source": [
    "# Finding monthly churn\n",
    "\n",
    "monthly_churn = pd.DataFrame(subs.groupby(\"churn_month\").size(), columns=[\"total_churned\"])\n",
    "\n",
    "print(monthly_churn.info(), '\\n')\n",
    "print(monthly_churn.head())\n"
   ]
  },
  {
   "cell_type": "markdown",
   "metadata": {},
   "source": [
    "### Date Wrangling\n",
    "\n",
    "Because of the way we created monthly_churn, it can only contain months in which customers have churned — it could potentially be missing a few months. \n",
    "```\n",
    "print(subs[\"start_date\"].min())\n",
    "\n",
    "2011-01-05 13:55:00\n",
    "\n",
    "```\n",
    "Above, earliest start date is of January 2011 whereas our churned data starts from March 2011 indicating some potential missing entries. We can account for this by creating and merging a dataframe of all months since January 2011 called `churn` with `monthly_churn` and then comparing statistics.  "
   ]
  },
  {
   "cell_type": "code",
   "execution_count": 13,
   "metadata": {
    "scrolled": true
   },
   "outputs": [
    {
     "data": {
      "text/html": [
       "<div>\n",
       "<style scoped>\n",
       "    .dataframe tbody tr th:only-of-type {\n",
       "        vertical-align: middle;\n",
       "    }\n",
       "\n",
       "    .dataframe tbody tr th {\n",
       "        vertical-align: top;\n",
       "    }\n",
       "\n",
       "    .dataframe thead th {\n",
       "        text-align: right;\n",
       "    }\n",
       "</style>\n",
       "<table border=\"1\" class=\"dataframe\">\n",
       "  <thead>\n",
       "    <tr style=\"text-align: right;\">\n",
       "      <th></th>\n",
       "      <th>yearmonth</th>\n",
       "    </tr>\n",
       "  </thead>\n",
       "  <tbody>\n",
       "    <tr>\n",
       "      <th>0</th>\n",
       "      <td>201101</td>\n",
       "    </tr>\n",
       "    <tr>\n",
       "      <th>1</th>\n",
       "      <td>201102</td>\n",
       "    </tr>\n",
       "    <tr>\n",
       "      <th>2</th>\n",
       "      <td>201103</td>\n",
       "    </tr>\n",
       "    <tr>\n",
       "      <th>3</th>\n",
       "      <td>201104</td>\n",
       "    </tr>\n",
       "    <tr>\n",
       "      <th>4</th>\n",
       "      <td>201105</td>\n",
       "    </tr>\n",
       "  </tbody>\n",
       "</table>\n",
       "</div>"
      ],
      "text/plain": [
       "   yearmonth\n",
       "0     201101\n",
       "1     201102\n",
       "2     201103\n",
       "3     201104\n",
       "4     201105"
      ]
     },
     "execution_count": 13,
     "metadata": {},
     "output_type": "execute_result"
    }
   ],
   "source": [
    "years = list(range(2011,2015)) # All year since 2011\n",
    "months = list(range(1,13)) # All months\n",
    "yearmonths = [y*100+m for y in years for m in months] #Adding months to years to confirm with yyyymm format\n",
    "yearmonths = yearmonths[:-1] # removing December 2014\n",
    "\n",
    "churn = pd.DataFrame({\"yearmonth\": yearmonths})\n",
    "\n",
    "churn.head()"
   ]
  },
  {
   "cell_type": "markdown",
   "metadata": {},
   "source": [
    "**Exercise**\n",
    "\n",
    "Use the `pandas.merge()` function to populate `churn` with the data already present in `monthly_churn`:\n",
    "- The dataframe on the left should be `churn`.\n",
    "- The dataframe on the right should be `monthly_churn`.\n",
    "- In order not to lose any months, use a `left` kind of merge.\n",
    "- Use appropriate arguments on the `left_on` and `right_index` parameters.\n",
    "- Display `churn.head()`; note that it has some expected missing values.\n",
    "- Use the `DataFrame.fillna()` method to input `0` inplace of missing values.\n",
    "- Change the `total_churned` column to an integer format."
   ]
  },
  {
   "cell_type": "code",
   "execution_count": 14,
   "metadata": {
    "scrolled": true
   },
   "outputs": [
    {
     "name": "stdout",
     "output_type": "stream",
     "text": [
      "<class 'pandas.core.frame.DataFrame'>\n",
      "RangeIndex: 47 entries, 0 to 46\n",
      "Data columns (total 2 columns):\n",
      " #   Column         Non-Null Count  Dtype  \n",
      "---  ------         --------------  -----  \n",
      " 0   yearmonth      47 non-null     int64  \n",
      " 1   total_churned  45 non-null     float64\n",
      "dtypes: float64(1), int64(1)\n",
      "memory usage: 880.0 bytes\n",
      "None \n",
      "\n",
      "   yearmonth  total_churned\n",
      "0     201101            NaN\n",
      "1     201102            NaN\n",
      "2     201103            8.0\n",
      "3     201104           16.0\n",
      "4     201105           29.0\n"
     ]
    }
   ],
   "source": [
    "churn = pd.merge(left=churn, right=monthly_churn, how=\"left\", left_on=\"yearmonth\", right_index=True)\n",
    "\n",
    "print(churn.info(), '\\n')\n",
    "\n",
    "print(churn.head())"
   ]
  },
  {
   "cell_type": "code",
   "execution_count": 15,
   "metadata": {
    "scrolled": true
   },
   "outputs": [
    {
     "name": "stdout",
     "output_type": "stream",
     "text": [
      "<class 'pandas.core.frame.DataFrame'>\n",
      "RangeIndex: 47 entries, 0 to 46\n",
      "Data columns (total 2 columns):\n",
      " #   Column         Non-Null Count  Dtype\n",
      "---  ------         --------------  -----\n",
      " 0   yearmonth      47 non-null     int64\n",
      " 1   total_churned  47 non-null     int32\n",
      "dtypes: int32(1), int64(1)\n",
      "memory usage: 692.0 bytes\n",
      "None \n",
      "\n",
      "   yearmonth  total_churned\n",
      "0     201101              0\n",
      "1     201102              0\n",
      "2     201103              8\n",
      "3     201104             16\n",
      "4     201105             29\n"
     ]
    }
   ],
   "source": [
    "# Filling missing values\n",
    "\n",
    "churn.fillna(0, inplace=True)\n",
    "\n",
    "churn[\"total_churned\"] = churn[\"total_churned\"].astype(int)\n",
    "\n",
    "print(churn.info(), '\\n')\n",
    "\n",
    "print(churn.head())"
   ]
  },
  {
   "cell_type": "markdown",
   "metadata": {},
   "source": [
    "### Churn Rate\n",
    "\n",
    "Since **Churn Rate = # Churned Customers/# Total Customers**, we have to device a method to determine the \"total customers\" as the number of customers can change throughout the month. We can resort to a mean value or determine the number of customers at the beginning of the month. We'll use the latter.\n",
    "\n",
    "The number of customers at the beginning of the month are same as at the end of previous month. More concretely, given a month `ym` (from yearmonth in churn), we'll count the number of subscriptions where `start_date` comes before the first day of `ym`, and where `end_date` is after the last day of the previous month (which is to say that the `end_date` is greater than or equal to the first day of `ym`). \n",
    "This can be done by counting the number of rows of subs where `start_date` is smaller than the first day of the month and where `end_date` is greater."
   ]
  },
  {
   "cell_type": "markdown",
   "metadata": {},
   "source": [
    "**Exercise**\n",
    "\n",
    "Create a function that takes as input an integer representing a month in the format `yyyymm` and returns the number of rows in `subs` satisfying all of the following criteria:\n",
    "\n",
    "- `start_date` occurred before the first day of then given month\n",
    "- `end_date` is later than the last day of the previous month\n",
    "- Create a column in `churn` named `total_customers` that is the result of applying the function created in the previous step to `churn[\"yearmonth\"].\n",
    "\n",
    "Calculate the churn rate for each month:\n",
    "\n",
    "- Divide the `total_churned` column by `total_customers`\n",
    "- Assign the result to a column called `churn_rate`\n",
    "- Set `yearmonth` as a string type.\n",
    "\n",
    "Plot the churn rate across time."
   ]
  },
  {
   "cell_type": "code",
   "execution_count": 16,
   "metadata": {},
   "outputs": [],
   "source": [
    "# Create a function to count customers fulfilling above criteria\n",
    "\n",
    "import datetime as dt\n",
    "\n",
    "def get_customers(yearmonth):\n",
    "    year = int(yearmonth/100) # integer will be rounded off to closest integer\n",
    "    month = yearmonth - (year*100)\n",
    "    date = dt.datetime(year, month, 1) # sets the date to 1st of month\n",
    "    \n",
    "    return ((subs[\"start_date\"] < date) & (date <= subs[\"end_date\"])).sum()\n",
    "    "
   ]
  },
  {
   "cell_type": "code",
   "execution_count": 17,
   "metadata": {
    "scrolled": false
   },
   "outputs": [
    {
     "name": "stdout",
     "output_type": "stream",
     "text": [
      "<class 'pandas.core.frame.DataFrame'>\n",
      "RangeIndex: 47 entries, 0 to 46\n",
      "Data columns (total 4 columns):\n",
      " #   Column           Non-Null Count  Dtype  \n",
      "---  ------           --------------  -----  \n",
      " 0   yearmonth        47 non-null     object \n",
      " 1   total_churned    47 non-null     int32  \n",
      " 2   total_customers  47 non-null     int64  \n",
      " 3   churn_rate       46 non-null     float64\n",
      "dtypes: float64(1), int32(1), int64(1), object(1)\n",
      "memory usage: 1.4+ KB\n",
      "None \n",
      "\n",
      "  yearmonth  total_churned  total_customers  churn_rate\n",
      "0    201101              0                0         NaN\n",
      "1    201102              0               17    0.000000\n",
      "2    201103              8               47    0.170213\n",
      "3    201104             16               82    0.195122\n",
      "4    201105             29              105    0.276190\n"
     ]
    }
   ],
   "source": [
    "# Create total_customers column in \"churn\"\n",
    "\n",
    "churn[\"total_customers\"] = churn[\"yearmonth\"].apply(get_customers)\n",
    "\n",
    "churn[\"churn_rate\"] = churn[\"total_churned\"]/ churn[\"total_customers\"]\n",
    "\n",
    "churn[\"yearmonth\"] = churn[\"yearmonth\"].astype(str)\n",
    "print(churn.info(), '\\n')\n",
    "\n",
    "print(churn.head())"
   ]
  },
  {
   "cell_type": "code",
   "execution_count": 18,
   "metadata": {
    "scrolled": true
   },
   "outputs": [
    {
     "data": {
      "image/png": "[encoded data removed]",
      "text/plain": [
       "<Figure size 864x432 with 1 Axes>"
      ]
     },
     "metadata": {
      "needs_background": "light"
     },
     "output_type": "display_data"
    }
   ],
   "source": [
    "# Plot churn rate across time\n",
    "\n",
    "arange = __import__(\"numpy\").arange\n",
    "Ellipse = __import__(\"matplotlib\").patches.Ellipse\n",
    "\n",
    "ax = churn.plot(x=\"yearmonth\", y=\"churn_rate\", figsize=(12,6), rot=45, marker=\".\")\n",
    "start, end = ax.get_xlim()\n",
    "ax.get_xticks()\n",
    "ax.set_xticks(arange(2, end, 3))\n",
    "ax.set_xticklabels(yearmonths[2::3])\n",
    "circle = Ellipse((35, churn.loc[churn.yearmonth == \"201312\", \"churn_rate\"].iloc[0]),\n",
    "                 5, 0.065, color='sandybrown', fill=False\n",
    "                   )\n",
    "ax.add_artist(circle)\n",
    "ax.xaxis.label.set_visible(False)\n",
    "ax.spines['top'].set_visible(False)\n",
    "ax.spines['right'].set_visible(False)\n",
    "ax.get_legend().remove()"
   ]
  },
  {
   "cell_type": "markdown",
   "metadata": {},
   "source": [
    "### Investigating Churn\n",
    "\n",
    "Above graphs shows:\n",
    "\n",
    "- The churn rate is very erratic at the beginning;\n",
    "\n",
    "- In the months prior to our taking over the business in January of 2013, the churn rate started to become more stable.\n",
    "\n",
    "- After we took over the business, there was a spike in churn. This is not surprising, maybe people just took the opportunity to change gyms or quit.\n",
    "\n",
    "- At the end of 2013 and beginning of 2014, there was a relatively large spike in the churn rate (circled).\n",
    "\n",
    "Drilling down into the behavior of the churn rate by type of suscription (monthly vs. annual) may give us some clues."
   ]
  },
  {
   "attachments": {
    "image.png": {
     "image/png": "[encoded data removed]"
    }
   },
   "cell_type": "markdown",
   "metadata": {},
   "source": [
    "### Monthly Subscriptions\n",
    "\n",
    "![image.png](attachment:image.png)"
   ]
  },
  {
   "attachments": {
    "image.png": {
     "image/png": "[encoded data removed]"
    }
   },
   "cell_type": "markdown",
   "metadata": {},
   "source": [
    "### Annual Subscriptions\n",
    "\n",
    "![image.png](attachment:image.png)"
   ]
  },
  {
   "cell_type": "markdown",
   "metadata": {},
   "source": [
    "It seems the spike in churn originates from the monthly plans in December and from the annual plans in January. This is because when we took over the business in January of 2013, we made a promo where people could sign up for a year for $500. What we're seeing here is the churn due to that promotion.\n",
    "\n",
    "A few actions that we could take to reactivate these customers are:\n",
    "\n",
    "- Make a new promotion specifically for the quitters.\n",
    "- Make a new promotion specifically for the customers who attended the gym up until the end.\n",
    "- Throw in some perks in addition to the standard service for the customers who didn't quit."
   ]
  },
  {
   "cell_type": "markdown",
   "metadata": {},
   "source": [
    "### Analyzing Churn\n",
    "\n",
    "churn rate is actionable. Moreover, it satisfies most, if not all, of the other requirements for what makes a good metric:\n",
    "\n",
    "- Accurate\n",
    "- Simple and intelligible\n",
    "- Easy to drill down into\n",
    "- Actionable\n",
    "- Dynamic\n",
    "- Standardized\n",
    "- Business oriented\n",
    "\n",
    "Reducing churn is important because:\n",
    "- The more customers we lose, the smaller the pool of potential customers becomes.\n",
    "- In the case of subscription based products, current customers are more likely to buy the more expensive products than new customers.\n",
    "- Churn rate informs how happy customers are with our product.\n",
    "- Research has shown that retaining existing customers is more profitable than acquiring new customers due primarily to savings on acquisition costs, the higher volume of service consumption, and customer referrals [(source)](https://journals.lib.unb.ca/index.php/JCIM/article/view/442).\n",
    "- Happy customers provide free advertising.\n",
    "\n",
    "Gauging churn rates, just like NPS, is also [industry-dependent](https://www.statista.com/statistics/816735/customer-churn-rate-by-industry-us/):"
   ]
  }
 ],
 "metadata": {
  "kernelspec": {
   "display_name": "Python 3",
   "language": "python",
   "name": "python3"
  },
  "language_info": {
   "codemirror_mode": {
    "name": "ipython",
    "version": 3
   },
   "file_extension": ".py",
   "mimetype": "text/x-python",
   "name": "python",
   "nbconvert_exporter": "python",
   "pygments_lexer": "ipython3",
   "version": "3.7.6"
  }
 },
 "nbformat": 4,
 "nbformat_minor": 4
}
