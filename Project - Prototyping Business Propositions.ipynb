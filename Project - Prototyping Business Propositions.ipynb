{
 "cells": [
  {
   "cell_type": "markdown",
   "metadata": {},
   "source": [
    "# Project - Prototyping and Communicating Results in Business Analytics\n",
    "\n",
    "In business, prototyping involves making an approximate analysis with some lax assumptions to evaluate a business proposition, instead of making a full-fledged analysis.\n",
    "In business environments, there's a large swath of people who we may need to communicate with. They will have varying degrees of data literacy, which makes it harder to not only report results, but also:\n",
    "\n",
    "- Makes it harder for these colleagues to request things of us\n",
    "- Makes it harder for us to manage a large and varied influx of requests\n",
    "\n",
    "In this project, we'll build a prototype and  communicate the results effectively as a data professional with people whose data skills aren't as sharp as our own."
   ]
  },
  {
   "cell_type": "markdown",
   "metadata": {},
   "source": [
    "### Scenario\n",
    "\n",
    "We're working for one of Google's data science teams and someone from another team, specifically an account manager — \"a person who works for a company and is responsible for the management of sales and relationships with particular customers\" — approaches you with a request. She wants to take a prophylactic approach and improve the revenue of undervalued apps to motivate the developers to keep working on them. \n",
    "\n",
    "Since her department's budget for marketing won't allow her to invest on ads (which would boost the number of sales), the only way to improve the revenue is by tweaking the price. She requests that we determine which paid apps are undervalued (undervalued here means that their price could be increased without lowering demand).\n",
    "\n",
    "We talk it over with our manager and ou come to the decision of **prototyping** this project, that is, making a rough analysis with some lax assumptions, instead of making a full-fledged analysis. Prototyping has several advantages:\n",
    "\n",
    "- Having a prototype makes it much easier to estimate the cost of a fully fleshed-out project, be it human, technological, or financial resources.\n",
    "- Having a more accurate estimate of the cost allows decision-makers to not go through with the project if it doesn't seem profitable enough, or not the best allocation of resources at that point in time.\n",
    "- It allows grunt workers (like ourselves) to change and add missing requirements to complete the project. Oftentimes these are overlooked and only spotted later; some examples are missing data, the creation of a new database, the development of an API.\n",
    "- It allows business people (like the account manager) to tweak the project's goal.\n",
    "- It gives all stakeholders an opportunity to add easily accomplishable side-goals given the main goal, thus maximizing the project's output.\n",
    "\n",
    "Despite the above, we should not only limit the scope of the project (focus on one goal) when prototyping, but we should also timebox it — prototypes without deadlines run the danger of becoming time wasters that do not let us capitalize on the above advantages.\n",
    "\n",
    "**Dataset** We'll be using The Google Playstore apps`googleplaystore.csv` dataset available at [kaggle](https://www.kaggle.com/lava18/google-play-store-apps) and leverage the power of pandas!  "
   ]
  },
  {
   "cell_type": "code",
   "execution_count": null,
   "metadata": {},
   "outputs": [],
   "source": [
    "# Data Exploration\n",
    "\n",
    "import pandas as pd\n",
    "playstore = pd.read_csv(\"googleplaystore.csv\")\n",
    "print(playstore.shape)"
   ]
  },
  {
   "cell_type": "code",
   "execution_count": null,
   "metadata": {
    "scrolled": false
   },
   "outputs": [],
   "source": [
    "print(playstore.info())"
   ]
  },
  {
   "cell_type": "code",
   "execution_count": null,
   "metadata": {},
   "outputs": [],
   "source": [
    "print(playstore.head(5))"
   ]
  },
  {
   "cell_type": "markdown",
   "metadata": {},
   "source": [
    "### Cleaning Data\n",
    "\n",
    "First, we will identify null,missing and duplicate entries and then devise a strategy to deal with them"
   ]
  },
  {
   "cell_type": "code",
   "execution_count": null,
   "metadata": {
    "scrolled": true
   },
   "outputs": [],
   "source": [
    "null_content = playstore[playstore[\"Content Rating\"].isnull()]\n",
    "print(null_content) # NaN in \"Content Rating Column\" of index 10472\n",
    "print('\\n', null_content[\"Content Rating\"])"
   ]
  },
  {
   "cell_type": "code",
   "execution_count": null,
   "metadata": {
    "scrolled": true
   },
   "outputs": [],
   "source": [
    "null_type = playstore[playstore[\"Type\"].isnull()]\n",
    "print(null_type) # NaN in \"Type Column\" of index 9148\n",
    "\n",
    "print('\\n', null_type[\"Type\"])"
   ]
  },
  {
   "cell_type": "code",
   "execution_count": null,
   "metadata": {},
   "outputs": [],
   "source": [
    "null_c_ver = playstore[playstore[\"Current Ver\"].isnull()]\n",
    "print(null_c_ver) # NaN in \"Current Ver Column\" of 8 indices\n",
    "\n",
    "print('\\n', null_c_ver[\"Current Ver\"])"
   ]
  },
  {
   "cell_type": "code",
   "execution_count": null,
   "metadata": {
    "scrolled": false
   },
   "outputs": [],
   "source": [
    "null_a_ver = playstore[playstore[\"Android Ver\"].isnull()]\n",
    "print(null_a_ver) # NaN in \"Android Ver Column\" of 3 indices\n",
    "\n",
    "print('\\n', null_a_ver[\"Android Ver\"])"
   ]
  },
  {
   "cell_type": "code",
   "execution_count": null,
   "metadata": {
    "scrolled": true
   },
   "outputs": [],
   "source": [
    "# Duplicate Entries\n",
    "unique_apps = pd.Series(playstore[\"App\"].unique())\n",
    "\n",
    "print(unique_apps.shape)\n",
    "duplicates = playstore[\"App\"].duplicated(keep='last') \n",
    "print(playstore[duplicates].shape)\n",
    "print(type(unique_apps))"
   ]
  },
  {
   "cell_type": "markdown",
   "metadata": {},
   "source": [
    "### Other Data Cleaning Issues\n",
    "Apart from missing, null and duplicate entries as above, there are a few other data cleaning issues requiring our attention:\n",
    "\n",
    "**Data Type**\n",
    "- The columns `Reviews`, `Installs`, `Price` and `Size` have to be `float` or `int` types for analysis, presently they are `object` types.\n",
    "\n",
    "**Free Apps**\n",
    "- Our prototyping is inclined towards determining the \"under-valued\" apps for improving revenues, so \"Free apps\" are superfluous for our analysis."
   ]
  },
  {
   "cell_type": "markdown",
   "metadata": {},
   "source": [
    "### Data Cleaning Strategy\n",
    "Our **Data Cleaning Strategy** is based on following:\n",
    "- Some of the data type issues are due to a particularly problematic entry at `index 10472` which has a missing entry for the column `Category` resulting in erratic data layout; so, we will remove it first. It's a free app, so its removal will make no difference for overall analysis.\n",
    "\n",
    "- Second, we will remove the \"Free Apps\" followed by removal of `Type` column to focus on relevant data only.\n",
    "\n",
    "- Third, we will correct the `Price` column through vectorized string methods and convert it to `float` type.\n",
    "\n",
    "- Fourth, we will correct the `Size` column using Series.apply() method and defining a function for cleaning. Then, we will convert it to `int` type."
   ]
  },
  {
   "cell_type": "code",
   "execution_count": null,
   "metadata": {
    "scrolled": false
   },
   "outputs": [],
   "source": [
    "# Removal of entry 10472\n",
    "playstore.drop(labels=10472, inplace=True)\n",
    "print(playstore.info())"
   ]
  },
  {
   "cell_type": "code",
   "execution_count": null,
   "metadata": {
    "scrolled": true
   },
   "outputs": [],
   "source": [
    "# Price Column - remove $ and convert to float\n",
    "playstore[\"Price\"] = playstore[\"Price\"].str.replace(\"$\", \"\").astype(\"float\")\n"
   ]
  },
  {
   "cell_type": "code",
   "execution_count": null,
   "metadata": {
    "scrolled": true
   },
   "outputs": [],
   "source": [
    "# `Reviews` Column convert to int\n",
    "playstore[\"Reviews\"] = playstore[\"Reviews\"].astype(\"int\")"
   ]
  },
  {
   "cell_type": "code",
   "execution_count": null,
   "metadata": {
    "scrolled": true
   },
   "outputs": [],
   "source": [
    "# Installs column - remove \",\" and \"+\" and convert to int\n",
    "playstore[\"Installs\"] = playstore[\"Installs\"].str.replace(\",\",\"\").str.replace(\"+\",\"\").astype(\"int\")\n",
    "\n"
   ]
  },
  {
   "cell_type": "code",
   "execution_count": null,
   "metadata": {
    "scrolled": true
   },
   "outputs": [],
   "source": [
    "# Size Column - remove \"M\" and \"K\", convert to float, express in uniform units i.e. MB\n",
    "\n",
    "def clean_size(size):\n",
    "    \"\"\"Convert file size string to float and megabytes\"\"\"\n",
    "    size = size.replace(\"M\",\"\")\n",
    "    if size.endswith(\"k\"):\n",
    "        size = float(size[:-1])/1000\n",
    "    elif size == \"Varies with device\":\n",
    "        size = pd.np.NaN\n",
    "    else:\n",
    "        size = float(size)\n",
    "    return size\n",
    "\n",
    "playstore[\"Size\"] = playstore[\"Size\"].apply(clean_size)\n",
    "\n"
   ]
  },
  {
   "cell_type": "code",
   "execution_count": null,
   "metadata": {
    "scrolled": true
   },
   "outputs": [],
   "source": [
    "# Remvoing \"Free\" Apps and \"Type\" column\n",
    "playstore = playstore[playstore[\"Type\"] == \"Paid\"]\n",
    "playstore.drop(labels=\"Type\", axis=1, inplace=True)\n",
    "print(playstore.info())"
   ]
  },
  {
   "cell_type": "code",
   "execution_count": null,
   "metadata": {
    "scrolled": true
   },
   "outputs": [],
   "source": [
    "# Taking care of duplicates\n",
    "\n",
    "unique_apps = pd.Series(playstore[\"App\"].unique())\n",
    "\n",
    "print(unique_apps.shape)\n",
    "duplicates = playstore[\"App\"].duplicated(keep='first').sum() \n",
    "print(duplicates)\n",
    "\n",
    "# We have to remove 44 duplicate apps\n",
    "# We will remove duplicates whose number of reviews are not the highest\n",
    "# First, we will sort by \"Reviews\" \n",
    "playstore.sort_values(\"Reviews\", ascending=False, inplace=True)\n",
    "\n",
    "playstore = playstore.drop_duplicates(subset=\"App\", keep=\"first\")\n",
    "\n",
    "print(playstore[\"App\"].duplicated(keep='first').sum())"
   ]
  },
  {
   "cell_type": "code",
   "execution_count": null,
   "metadata": {
    "scrolled": false
   },
   "outputs": [],
   "source": [
    "# Resetting Index\n",
    "playstore.reset_index(inplace=True, drop=True)\n",
    "\n",
    "print(playstore.info())"
   ]
  },
  {
   "cell_type": "code",
   "execution_count": null,
   "metadata": {
    "scrolled": true
   },
   "outputs": [],
   "source": [
    "print(playstore.head(5)) # index is reset"
   ]
  },
  {
   "cell_type": "markdown",
   "metadata": {},
   "source": [
    "### Data Exploration\n",
    "We are interested in identifying \"under-valued apps\". But, we are not yet clear about the meaning of this term. For a better understanding, we need to first explore the data starting from the `price` column.` "
   ]
  },
  {
   "cell_type": "code",
   "execution_count": null,
   "metadata": {
    "scrolled": false
   },
   "outputs": [],
   "source": [
    "# Check price distribution\n",
    "\n",
    "import matplotlib.pyplot as plt\n",
    "%matplotlib inline\n",
    "import seaborn as sns\n",
    "\n",
    "sns.set_style(\"white\")\n",
    "sns.set_context(\"poster\")\n",
    "\n",
    "sns.distplot(playstore[\"Price\"], bins=20, kde=False, rug=True)\n",
    "plt.show()"
   ]
  },
  {
   "cell_type": "code",
   "execution_count": null,
   "metadata": {},
   "outputs": [],
   "source": [
    "sns.set_context(\"poster\")\n",
    "\n",
    "sns.kdeplot(playstore[\"Price\"], shade=True)\n",
    "plt.show()"
   ]
  },
  {
   "cell_type": "code",
   "execution_count": null,
   "metadata": {
    "scrolled": true
   },
   "outputs": [],
   "source": [
    "sns.set_context(\"paper\")\n",
    "sns.boxplot(data=playstore[\"Price\"])"
   ]
  },
  {
   "cell_type": "markdown",
   "metadata": {},
   "source": [
    "### Outliers\n",
    "Above distribution shows, most apps are priced under $50 with some outliers at various prices up to $400. Let's first investigate outliers.   "
   ]
  },
  {
   "cell_type": "code",
   "execution_count": null,
   "metadata": {},
   "outputs": [],
   "source": [
    "# Apply a Boolean mask of apps priced over $50\n",
    "expensive = playstore[playstore[\"Price\"]>50]\n",
    "\n",
    "fig,ax=plt.subplots()\n",
    "figsize=(12,6)\n",
    "ax.hist(expensive['Price'],range=(50,400), bins=20)\n",
    "plt.show()"
   ]
  },
  {
   "cell_type": "code",
   "execution_count": null,
   "metadata": {},
   "outputs": [],
   "source": [
    "# Apply a Boolean mask of apps priced under $50\n",
    "affordable_apps = playstore[playstore[\"Price\"]<=50]\n",
    "\n",
    "fig,ax=plt.subplots()\n",
    "figsize=(12,6)\n",
    "ax.hist(affordable_apps['Price'],range=(0,50), bins=20)\n",
    "plt.show()"
   ]
  },
  {
   "cell_type": "markdown",
   "metadata": {},
   "source": [
    " Even in the range of <$50, most applications seem to be costing $5 and below. So, we need to further refine our results "
   ]
  },
  {
   "cell_type": "code",
   "execution_count": null,
   "metadata": {
    "scrolled": true
   },
   "outputs": [],
   "source": [
    "# Create a boolean mask for apps price less than $5 and one for $5 and above\n",
    "cheap = affordable_apps[affordable_apps[\"Price\"]<5]\n",
    "\n",
    "reasonable = affordable_apps[affordable_apps[\"Price\"]>=5]\n",
    "\n",
    "cheap.hist(column=\"Price\", grid=False, figsize=(12,6))\n",
    "\n",
    "reasonable.hist(column=\"Price\", grid=False, figsize=(12,6))"
   ]
  },
  {
   "cell_type": "code",
   "execution_count": null,
   "metadata": {
    "scrolled": true
   },
   "outputs": [],
   "source": [
    "# Adding a column \"affordability\" in affordable_apps as a price-metric\n",
    "\n",
    "affordable_apps[\"affordability\"] = affordable_apps[\"Price\"].apply(lambda price: \"cheap\" if price<5 else \"reasonable\").copy()"
   ]
  },
  {
   "cell_type": "code",
   "execution_count": null,
   "metadata": {
    "scrolled": true
   },
   "outputs": [],
   "source": [
    "print(affordable_apps[[\"Price\", \"affordability\"]].head())"
   ]
  },
  {
   "cell_type": "markdown",
   "metadata": {},
   "source": [
    "## Data Analysis Strategy\n",
    "\n",
    "Now, that we have created a dataframe of undervalued apps `affordable_apps` and segmented it further into `cheap` and `reasonable` from the point of view of `affordability`, we can focus our analysis on developing metrics which would evaluate the price with respect to `Ratings`, `Genre` and `Category`. This implies that a cheaper application will need to qualify on some of the other criteria in order to be considered for price increase. Similarly, a somewhat expensive application will not be automatically ruled out if it passes other criteria.\n",
    "\n",
    "- We will first consider `Price` vs `Ratings` analytics. If no correlation exists, we will develop a `price_criterion` based on mean price.\n",
    "- Next, we will develop a `genre_criterion` to see how apps prices fair against `Genre`\n",
    "- Finally, a `category_criterion` will help us determine how prices are related to `Category`\n",
    "- In the end. a majority vote of all criteria will decide whether the app is to be considered for price increase. "
   ]
  },
  {
   "cell_type": "markdown",
   "metadata": {},
   "source": [
    "### Price versus Rating\n",
    "We can now compare `Price` with `Ratings` and other factors such as `Genre`, `Category`, `Reviews`, `Size`, `Installs` etc. "
   ]
  },
  {
   "cell_type": "code",
   "execution_count": null,
   "metadata": {
    "scrolled": true
   },
   "outputs": [],
   "source": [
    "# Determine correlations\n",
    "correlations = affordable_apps.corr()\n",
    "print(correlations)"
   ]
  },
  {
   "cell_type": "code",
   "execution_count": null,
   "metadata": {
    "scrolled": true
   },
   "outputs": [],
   "source": [
    "f, ax = plt.subplots(figsize=(9, 6))\n",
    "sns.heatmap(correlations, annot=True, linewidths=.5, ax=ax)"
   ]
  },
  {
   "cell_type": "markdown",
   "metadata": {},
   "source": [
    "We can see above that no significant correlations exist except between `Installs` and `Reviews` (0.81). Correlation between `Price` and `Rating` is non-existent (-0.05). This implies that we can rely on a metric like \"mean_price\" and consider increasing the prices of apps which lie below mean  price. "
   ]
  },
  {
   "cell_type": "code",
   "execution_count": null,
   "metadata": {},
   "outputs": [],
   "source": [
    "# Determine correlations\n",
    "cheap = affordable_apps[\"Price\"]<5\n",
    "correlations_cheap = affordable_apps[cheap].corr()\n",
    "f, ax = plt.subplots(figsize=(9, 6))\n",
    "sns.heatmap(correlations_cheap, annot=True, linewidths=.5, ax=ax)"
   ]
  },
  {
   "cell_type": "code",
   "execution_count": null,
   "metadata": {
    "scrolled": true
   },
   "outputs": [],
   "source": [
    "# Find mean of cheap apps\n",
    "cheap = affordable_apps[\"Price\"]<5\n",
    "cheap_mean = affordable_apps.loc[cheap, \"Price\"].mean()\n",
    "print(cheap_mean)\n",
    "\n",
    "# For only the cheap apps, create a column in affordable_apps called price_criterion \n",
    "# that takes the value 1 when the app's price is lower than cheap_mean, and 0 otherwise.\n",
    "\n",
    "affordable_apps.loc[cheap, \"price_criterion\"] = affordable_apps[\"Price\"].apply(lambda x: 1 if x<cheap_mean else 0)\n",
    "\n",
    "affordable_apps[cheap].plot(kind=\"scatter\", x=\"Price\", y=\"Rating\")"
   ]
  },
  {
   "cell_type": "code",
   "execution_count": null,
   "metadata": {},
   "outputs": [],
   "source": [
    "# Determine correlations\n",
    "reasonable = affordable_apps[\"Price\"]>=5\n",
    "correlations_reasonable = affordable_apps[reasonable].corr()\n",
    "f, ax = plt.subplots(figsize=(9, 6))\n",
    "sns.heatmap(correlations_reasonable, annot=True, linewidths=.5, ax=ax)"
   ]
  },
  {
   "cell_type": "code",
   "execution_count": null,
   "metadata": {
    "scrolled": true
   },
   "outputs": [],
   "source": [
    "# Find mean of reasonable apps\n",
    "reasonable = affordable_apps[\"Price\"]>=5\n",
    "\n",
    "reasonable_mean = affordable_apps.loc[reasonable, \"Price\"].mean()\n",
    "print(reasonable_mean)\n",
    "\n",
    "# For only the cheap apps, create a column in affordable_apps called price_criterion \n",
    "# that takes the value 1 when the app's price is lower than cheap_mean, and 0 otherwise.\n",
    "\n",
    "affordable_apps.loc[reasonable, \"price_criterion\"] = affordable_apps[\"Price\"].apply(lambda x: 1 if x<cheap_mean else 0)\n",
    "\n",
    "affordable_apps[reasonable].plot(kind=\"scatter\", x=\"Price\", y=\"Rating\")"
   ]
  },
  {
   "cell_type": "markdown",
   "metadata": {},
   "source": [
    "### Price versus Genres\n",
    "\n",
    "Looking at the first few rows of affordable_apps, we see that for an app belonging to multiple genres, the `Genre` entries are separated by `;`, so `groupby (\"Genres\")` would not yield meaningful results as there are not many `unique` entries. We will instead resort to counting genres to which a genre belongs and then develop a metric for comparing with mean price."
   ]
  },
  {
   "cell_type": "code",
   "execution_count": null,
   "metadata": {
    "scrolled": true
   },
   "outputs": [],
   "source": [
    "# Genre Count based on separator ';'\n",
    "# str.count() takes a regex\n",
    "affordable_apps[\"genre_count\"] = affordable_apps[\"Genres\"].str.count(';')+1 \n",
    "\n",
    "\n",
    "print(affordable_apps[\"genre_count\"].value_counts())\n"
   ]
  },
  {
   "cell_type": "markdown",
   "metadata": {},
   "source": [
    "Above, most apps belong to one genre and few to 2 genres. Let's see, how their mean price varies based on genre_count. "
   ]
  },
  {
   "cell_type": "code",
   "execution_count": null,
   "metadata": {
    "scrolled": true
   },
   "outputs": [],
   "source": [
    "genres_mean = affordable_apps.groupby([\"affordability\", \"genre_count\"]).mean()[[\"Price\"]]\n",
    "\n",
    "\n",
    "print(genres_mean)"
   ]
  },
  {
   "cell_type": "code",
   "execution_count": null,
   "metadata": {
    "scrolled": true
   },
   "outputs": [],
   "source": [
    "# Alternately \n",
    "genres_mean = affordable_apps.groupby([\"affordability\", \"genre_count\"])[\"Price\"].mean()\n",
    "genres_mean = pd.DataFrame(genres_mean) # we convert the groupby object to Dataframe for ease of reference\n",
    "print(genres_mean.info()) # We get a multi-index dataframe with one data column \"Price\"\n",
    "print(genres_mean)\n"
   ]
  },
  {
   "cell_type": "code",
   "execution_count": null,
   "metadata": {
    "scrolled": true
   },
   "outputs": [],
   "source": [
    "# We can check genre_count against other criteria as well\n",
    "all_mean = affordable_apps.groupby([\"affordability\", \"genre_count\"]).mean()\n",
    "\n",
    "\n",
    "print(all_mean)"
   ]
  },
  {
   "cell_type": "markdown",
   "metadata": {},
   "source": [
    "**`genre_criterion` column** \n",
    "Now, we develop a criteria for `Genres` verus `Price`. Let's call it `genre_criterion`. We define a function which will compare app `Price` against `genres_mean` and assign it a value of 1 if less than `genre_mean` and 0 if greater or equal to `genres_mean`"
   ]
  },
  {
   "cell_type": "code",
   "execution_count": null,
   "metadata": {
    "scrolled": true
   },
   "outputs": [],
   "source": [
    "def label_genres(row):\n",
    "    \"\"\"For each segment in `genres_mean`,\n",
    "    labels the apps that cost less than its segment's mean with `1`\n",
    "    and the others with `0`.\"\"\"\n",
    "    \n",
    "    aff = row[\"affordability\"]\n",
    "    gc = row[\"genre_count\"]\n",
    "    price = row[\"Price\"]\n",
    "    \n",
    "    if price < genres_mean.loc[(aff, gc)][0]:\n",
    "        return 1\n",
    "    else:\n",
    "        return 0\n",
    "\n",
    "affordable_apps[\"genre_criterion\"] = affordable_apps.apply(label_genres, axis=\"columns\")\n",
    "\n",
    "print(affordable_apps[[\"Price\",\"genre_count\",\"affordability\",\"genre_criterion\"]].head())\n",
    "    "
   ]
  },
  {
   "cell_type": "markdown",
   "metadata": {},
   "source": [
    "### Price versus Category\n",
    "\n",
    "`groupby (\"Categories\")` is a viable option looking at `value_counts` below. We will group according to categories and then develop a metric for comparing with mean price."
   ]
  },
  {
   "cell_type": "code",
   "execution_count": null,
   "metadata": {
    "scrolled": true
   },
   "outputs": [],
   "source": [
    "# Check unique Category entries and their count\n",
    "\n",
    "print(affordable_apps[\"Category\"].value_counts())"
   ]
  },
  {
   "cell_type": "code",
   "execution_count": null,
   "metadata": {
    "scrolled": true
   },
   "outputs": [],
   "source": [
    "# Create a dataframe similar to genres_means called categories_mean\n",
    "\n",
    "categories_mean = affordable_apps.groupby([\"affordability\", \"Category\"])[\"Price\"].mean()\n",
    "categories_mean = pd.DataFrame(categories_mean) # we convert the groupby object to Dataframe for ease of reference\n",
    "\n",
    "print(categories_mean.info()) # We get a multi-index dataframe with one data column \"Price\"\n",
    "\n",
    "print(categories_mean.head(5))\n",
    "\n",
    "print(categories_mean.tail(5))"
   ]
  },
  {
   "cell_type": "code",
   "execution_count": null,
   "metadata": {
    "scrolled": false
   },
   "outputs": [],
   "source": [
    "# Apply the function analogous to label_genres and create column \"category_criterion\"\n",
    "\n",
    "def label_cats(row):\n",
    "    \"\"\"For each segment in `categories_mean`,\n",
    "    labels the apps that cost less than its segment's mean with `1`\n",
    "    and the others with `0`.\"\"\"\n",
    "    \n",
    "    aff = row[\"affordability\"]\n",
    "    cat = row[\"Category\"]\n",
    "    price = row[\"Price\"]\n",
    "    \n",
    "    if price < categories_mean.loc[(aff, cat)][0]:\n",
    "        return 1\n",
    "    else:\n",
    "        return 0\n",
    "\n",
    "affordable_apps[\"category_criterion\"] = affordable_apps.apply(label_cats, axis=\"columns\")\n",
    "\n",
    "print(affordable_apps[[\"Price\",\"Category\",\"affordability\",\"category_criterion\"]].head())"
   ]
  },
  {
   "cell_type": "markdown",
   "metadata": {},
   "source": [
    "### Results and Impacts\n",
    "\n",
    "We will use a technique called \"majority voting\", in which we decide whether an app's price should increase based on all criteria. For each app, we're going to count the number of votes for each result, and the majority will be declared the winner."
   ]
  },
  {
   "cell_type": "code",
   "execution_count": null,
   "metadata": {
    "scrolled": false
   },
   "outputs": [],
   "source": [
    "# Create a column Result based on majority vote of all criteria\n",
    "\n",
    "criteria = [\"price_criterion\", \"genre_criterion\", \"category_criterion\"]\n",
    "\n",
    "affordable_apps[\"Result\"] = affordable_apps[criteria].mode(axis=1)\n",
    "\n",
    "print(affordable_apps.sample(5))"
   ]
  },
  {
   "cell_type": "code",
   "execution_count": null,
   "metadata": {},
   "outputs": [],
   "source": [
    "# Number of apps voted for price increase and percentage\n",
    "\n",
    "nr_eligible= affordable_apps[\"Result\"].sum()\n",
    "\n",
    "percent_eligible = (nr_eligible/affordable_apps[\"Result\"].size)*100\n",
    "\n",
    "print(nr_eligible, percent_eligible, sep='\\n')"
   ]
  },
  {
   "cell_type": "markdown",
   "metadata": {},
   "source": [
    "### Impact Analysis\n",
    "\n",
    "- Since we do not have data for the sales, we will use `Installs` as a (rough) proxy for the number of times the app was bought.\n",
    "- We will compare mean prices `cheap_mean` and `affordable_mean` with current `Price`, and if it is higher, we will adopt it as `New Price`.\n",
    "- Impact will be assessed by multiplying difference between `New Price` and current `Price` with `Installs` and recorded as `Impact`. "
   ]
  },
  {
   "cell_type": "code",
   "execution_count": null,
   "metadata": {},
   "outputs": [],
   "source": [
    "# Calculating cheap_mean and reasonable_mean\n",
    "cheap = affordable_apps[\"Price\"]<5\n",
    "cheap_mean = affordable_apps.loc[cheap, \"Price\"].mean()\n",
    "\n",
    "reasonable = affordable_apps[\"Price\"]>=5\n",
    "\n",
    "reasonable_mean = affordable_apps.loc[reasonable, \"Price\"].mean()"
   ]
  },
  {
   "cell_type": "code",
   "execution_count": null,
   "metadata": {
    "scrolled": false
   },
   "outputs": [],
   "source": [
    "# New Price column\n",
    "affordable_apps[\"New Price\"] = affordable_apps[\"Price\"].apply(lambda x: round(max(x,cheap_mean),2) if x<5 else round(max(x,reasonable_mean),2))\n",
    "    \n",
    "print(affordable_apps[[\"Price\",\"New Price\"]].sample(5))                                    \n",
    "                                    "
   ]
  },
  {
   "cell_type": "code",
   "execution_count": null,
   "metadata": {},
   "outputs": [],
   "source": [
    "# Alternately (New Price)\n",
    "# criteria = [\"price_criterion\", \"genre_criterion\", \"category_criterion\"]\n",
    "# affordable_apps[\"Result\"] = affordable_apps[criteria].mode(axis='columns')\n",
    "# def new_price(row):\n",
    "#     if row[\"affordability\"] == \"cheap\":\n",
    "#         return round(max(row[\"Price\"], cheap_mean), 2)\n",
    "#     else:\n",
    "#         return round(max(row[\"Price\"], reasonable_mean), 2)\n",
    "    \n",
    "# affordable_apps[\"New Price\"] = affordable_apps.apply(new_price, axis=\"columns\")"
   ]
  },
  {
   "cell_type": "code",
   "execution_count": null,
   "metadata": {
    "scrolled": false
   },
   "outputs": [],
   "source": [
    "# Assessing Impact\n",
    "\n",
    "affordable_apps[\"Impact\"] = (affordable_apps[\"New Price\"] - affordable_apps[\"Price\"])* affordable_apps[\"Installs\"]\n",
    "\n",
    "print(affordable_apps[[\"Price\",\"New Price\",\"Installs\",\"Impact\"]].sample(5)) \n",
    "\n",
    "total_impact = affordable_apps[\"Impact\"].sum()\n",
    "print('\\n', \"Total Impact: \", round(total_impact/1000000, 2), \" million\")"
   ]
  },
  {
   "cell_type": "markdown",
   "metadata": {},
   "source": [
    "### Analysis of Results\n",
    "- Above results are not realistic. They tend to imply that a minor price tweaking in a few hundred apps can generate additional revenues of $115 million.\n",
    "- The problem is obviously with the proxy `Installs` that we have used in place of future sales projection. \n",
    "- Our Prototype needs to be refined further in collaboration with the Sales and Marketing teams to analyze future sales projections if prices are increased by a certain factor.\n",
    "- Nonetheless, the proposition has a potential if supported by marketing."
   ]
  },
  {
   "cell_type": "markdown",
   "metadata": {},
   "source": [
    "### Communicating Results - Summary\n",
    "\n",
    "Below is a summary of our Prototyping effort."
   ]
  },
  {
   "cell_type": "markdown",
   "metadata": {},
   "source": [
    "**Data Quality**\n",
    "\n",
    "We found one erroneous data point (10472) which not only wasn't important, it was easy to fix. We should monitor this if management decides to move forward with the project to make sure it doesn't become an issue later on.\n",
    "We also found quite a few duplicates that were relatively easy to handle, but it would be better to deal with this from the start, lest it becomes a hard-to-manage problem."
   ]
  },
  {
   "cell_type": "markdown",
   "metadata": {},
   "source": [
    "**Apps Prices**\n",
    "\n",
    "Since the main goal of this project is to find undervalued apps, price is the central theme through which our analysis will revolve around.\n",
    "\n",
    "As a whole, the distribution of prices among the paid apps is tremendously skewed.Even when we removed the outliers from the analysis and focused on the apps costing less than $50, We ended up with a little over 700 rows of data, but the tendency persists.  \n",
    "\n",
    "Due to this reason, we decided to separate the apps into two different groups. Those that cost less than $5 — from now on the cheap apps — and the remaining ones — from now on the reasonable apps_. We'll call this feature \"Affordability\"."
   ]
  },
  {
   "cell_type": "markdown",
   "metadata": {},
   "source": [
    "**Strategy**\n",
    "\n",
    "In order to limit the scope of this prototype, we included only four more features in our analysis: the ratings, the affordability, the categories, and the genres.\n",
    "\n",
    "We separated the data into price groups and broke those down according to category and genre to determine the candidates for price increases."
   ]
  },
  {
   "cell_type": "markdown",
   "metadata": {},
   "source": [
    "**Prices vs. Other Features**\n",
    "\n",
    "We've found there isn't any meaningful relationship between the price and the rating.\n",
    "\n",
    "As an example, in the scatter plot , we have the price on the horizontal axis, and the rating on vertical axis. We see that price's column of data points are virtually indistinguishable from one another."
   ]
  },
  {
   "cell_type": "code",
   "execution_count": null,
   "metadata": {},
   "outputs": [],
   "source": [
    "affordable_apps[cheap].plot(kind=\"scatter\", x=\"Price\", y=\"Rating\")"
   ]
  },
  {
   "cell_type": "markdown",
   "metadata": {},
   "source": [
    "As for the genres, since each app can belong to multiple genres, and given that we only have around 700 rows of data, we decided not to drill down into the genres, but instead limit our analysis to counting the number of genres for each app and computing the average."
   ]
  },
  {
   "cell_type": "code",
   "execution_count": null,
   "metadata": {},
   "outputs": [],
   "source": [
    "genres_mean = affordable_apps.groupby([\"affordability\", \"genre_count\"])[\"Price\"].mean()\n",
    "genres_mean = pd.DataFrame(genres_mean) # we convert the groupby object to Dataframe for ease of reference\n",
    "print(genres_mean)\n"
   ]
  },
  {
   "cell_type": "markdown",
   "metadata": {},
   "source": [
    "We notice that cheap apps with multiple genres cost more than cheap apps with a single genre. The opposite happens among the reasonable apps.\n",
    "\n",
    "For each app, the vote cast by the genres feature is determined by how the price of the app relates to the average of its number of genres: Those that cost less than the average are eligible for price increase.\n",
    "\n",
    "As an example, suppose \"An Amazing App\" is a reasonable app that belongs to two genres. If its price is lower than $6.82, then the vote is that its price should increase.\n",
    "\n",
    "We used a similar strategy for the categories: We computed the average for each category and cast the vote in analogous way."
   ]
  },
  {
   "cell_type": "markdown",
   "metadata": {},
   "source": [
    "**Results and Impact**\n",
    "\n",
    "Upon casting the votes and finding the majority, out of the 733 apps that were analyzed, 401 apps (roughly 55%) were deemed eligible for a price increase.\n",
    "\n",
    "To estimate the impact that increasing prices could have, we want to find the optimal price and have a sense of how many times each app will be purchased.\n",
    "\n",
    "It wasn't the goal of this prototype to determine the optimal price, so as a quick proxy, we used the average price for each app's affordability. As for the amount of times each app will be purchased, we don't have access to the data, so we tried to use the number of installations instead.\n",
    "\n",
    "This proxy is not very accurate and realistic, but gives a feel of the potential of a price increase in low costing apps.\n",
    "\n",
    "In any case, given that roughly 60% of apps seem to be undervalued, our recommendation is that we move forward with this project. "
   ]
  },
  {
   "cell_type": "markdown",
   "metadata": {},
   "source": [
    "**Recommendations/ Next Steps**\n",
    "\n",
    "Some possible next steps are:\n",
    "\n",
    "- Including unused data in the analysis.\n",
    "- Get more data, such as:\n",
    " - More features — like the number of times each app was purchased.\n",
    " - A greater volume of data (we were working with just a little over 700 data points).\n",
    " - Select a sample of the eligible apps, increase their price and monitor the behavior of the purchases.\n",
    " - Determine optimal prices for each app."
   ]
  }
 ],
 "metadata": {
  "kernelspec": {
   "display_name": "Python 3",
   "language": "python",
   "name": "python3"
  },
  "language_info": {
   "codemirror_mode": {
    "name": "ipython",
    "version": 3
   },
   "file_extension": ".py",
   "mimetype": "text/x-python",
   "name": "python",
   "nbconvert_exporter": "python",
   "pygments_lexer": "ipython3",
   "version": "3.7.6"
  }
 },
 "nbformat": 4,
 "nbformat_minor": 4
}
